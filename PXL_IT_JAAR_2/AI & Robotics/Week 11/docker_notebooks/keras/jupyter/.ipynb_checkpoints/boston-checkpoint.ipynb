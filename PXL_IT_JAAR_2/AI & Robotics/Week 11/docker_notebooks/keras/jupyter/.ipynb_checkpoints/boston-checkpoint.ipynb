{
 "cells": [
  {
   "cell_type": "code",
   "execution_count": 1,
   "metadata": {},
   "outputs": [],
   "source": [
    "# Add all necessary imports here\n",
    "import matplotlib.pyplot as plt\n",
    "import xgboost as xgb\n",
    "import pandas as pd\n",
    "import numpy as np\n",
    "import xgboost as xgb\n",
    "from sklearn.datasets import fetch_20newsgroups\n",
    "from sklearn.model_selection import train_test_split\n",
    "from sklearn.metrics import accuracy_score, roc_auc_score\n",
    "from sklearn.feature_extraction.text import TfidfVectorizer, CountVectorizer\n",
    "import scipy.sparse\n",
    "np.set_printoptions(precision=3, suppress=True)\n",
    "%matplotlib inline\n",
    "plt.style.reload_library()\n",
    "plt.style.use(\"ggplot\")"
   ]
  },
  {
   "cell_type": "code",
   "execution_count": 2,
   "metadata": {},
   "outputs": [
    {
     "data": {
      "text/plain": [
       "{'max_depth': 3,\n",
       " 'learning_rate': 0.1,\n",
       " 'n_estimators': 100,\n",
       " 'silent': True,\n",
       " 'objective': 'binary:logistic',\n",
       " 'booster': 'gbtree',\n",
       " 'gamma': 0,\n",
       " 'min_child_weight': 1,\n",
       " 'max_delta_step': 0,\n",
       " 'subsample': 1,\n",
       " 'colsample_bytree': 1,\n",
       " 'colsample_bylevel': 1,\n",
       " 'reg_alpha': 0,\n",
       " 'reg_lambda': 1,\n",
       " 'scale_pos_weight': 1,\n",
       " 'base_score': 0.5,\n",
       " 'missing': nan,\n",
       " 'kwargs': {},\n",
       " '_Booster': None,\n",
       " 'seed': None,\n",
       " 'random_state': 0,\n",
       " 'nthread': None,\n",
       " 'n_jobs': 1,\n",
       " 'importance_type': 'gain'}"
      ]
     },
     "execution_count": 2,
     "metadata": {},
     "output_type": "execute_result"
    }
   ],
   "source": [
    "clf = xgb.XGBClassifier()\n",
    "clf.__dict__"
   ]
  },
  {
   "cell_type": "code",
   "execution_count": 3,
   "metadata": {},
   "outputs": [],
   "source": [
    "train = fetch_20newsgroups(subset='train', remove=('headers', 'footers', 'quotes'))\n",
    "test = fetch_20newsgroups(subset='test', remove=('headers', 'footers', 'quotes'))"
   ]
  },
  {
   "cell_type": "code",
   "execution_count": 4,
   "metadata": {},
   "outputs": [],
   "source": [
    "X, y = train.data, train.target\n",
    "#X = np.array(X)\n",
    "#y = np.array(y)\n",
    "#train_selection = (np.random.random(size=X.shape[0]) < 0.05)\n",
    "#X = X[train_selection]\n",
    "#y = y[train_selection]\n",
    "X_test_docs, y_test = test.data, test.target\n",
    "X_train_docs, X_val_docs, y_train, y_val = train_test_split(X, y, test_size=0.2, random_state=42)"
   ]
  },
  {
   "cell_type": "markdown",
   "metadata": {},
   "source": [
    "## Word Counts with CountVectorizer\n",
    "\n",
    "The CountVectorizer provides a simple way to both tokenize a collection of text documents and build a vocabulary of known words, but also to encode new documents using that vocabulary.\n",
    "\n",
    "\n",
    "You can use it as follows:\n",
    "\n",
    "\n",
    "1. Create an instance of the CountVectorizer class.\n",
    "2. Call the fit() function in order to learn a vocabulary from one or more documents.\n",
    "3. Call the transform() function on one or more documents as needed to encode each as a vector.\n",
    "\n",
    "An encoded vector is returned with a length of the entire vocabulary and an integer count for the number of times each word appeared in the document.\n",
    "\n",
    "Because these vectors will contain a lot of zeros, we call them sparse. Python provides an efficient way of handling sparse vectors in the scipy.sparse package."
   ]
  },
  {
   "cell_type": "code",
   "execution_count": 5,
   "metadata": {},
   "outputs": [
    {
     "name": "stdout",
     "output_type": "stream",
     "text": [
      "{'the': 7, 'quick': 6, 'brown': 0, 'fox': 2, 'jumped': 3, 'over': 5, 'lazy': 4, 'dog': 1}\n",
      "(1, 8)\n",
      "<class 'scipy.sparse.csr.csr_matrix'>\n",
      "[[1 1 1 1 1 1 1 2]]\n"
     ]
    }
   ],
   "source": [
    "# list of text documents\n",
    "text = [\"The quick brown fox jumped over the lazy dog.\"]\n",
    "# create the transform\n",
    "vectorizer = CountVectorizer()\n",
    "# tokenize and build vocab\n",
    "vectorizer.fit(text)\n",
    "# summarize\n",
    "print(vectorizer.vocabulary_)\n",
    "# encode document\n",
    "vector = vectorizer.transform(text)\n",
    "# summarize encoded vector\n",
    "print(vector.shape)\n",
    "print(type(vector))\n",
    "print(vector.toarray())"
   ]
  },
  {
   "cell_type": "code",
   "execution_count": 6,
   "metadata": {},
   "outputs": [
    {
     "name": "stdout",
     "output_type": "stream",
     "text": [
      "[[0 0 0 0 0 0 0 1]]\n"
     ]
    }
   ],
   "source": [
    "# encode another document\n",
    "text2 = [\"the puppy\"]\n",
    "vector = vectorizer.transform(text2)\n",
    "print(vector.toarray())"
   ]
  },
  {
   "cell_type": "markdown",
   "metadata": {},
   "source": [
    "## Word Frequencies with TfidfVectorizer\n",
    "\n",
    "Word counts are a good starting point, but are very basic.\n",
    "\n",
    "One issue with simple counts is that some words like “the” will appear many times and their large counts will not be very meaningful in the encoded vectors.\n",
    "\n",
    "An alternative is to calculate word frequencies, and by far the most popular method is called TF-IDF. This is an acronym than stands for “Term Frequency – Inverse Document” Frequency which are the components of the resulting scores assigned to each word.\n",
    "\n",
    "- Term Frequency: This summarizes how often a given word appears within a document.\n",
    "- Inverse Document Frequency: This downscales words that appear a lot across documents.\n",
    "\n",
    "Without going into the math, TF-IDF are word frequency scores that try to highlight words that are more interesting, e.g. frequent in a document but not across documents."
   ]
  },
  {
   "cell_type": "code",
   "execution_count": 7,
   "metadata": {},
   "outputs": [
    {
     "name": "stdout",
     "output_type": "stream",
     "text": [
      "{'the': 7, 'quick': 6, 'brown': 0, 'fox': 2, 'jumped': 3, 'over': 5, 'lazy': 4, 'dog': 1}\n",
      "[1.693 1.288 1.288 1.693 1.693 1.693 1.693 1.   ]\n",
      "(1, 8)\n",
      "[[0.364 0.277 0.277 0.364 0.364 0.364 0.364 0.43 ]]\n"
     ]
    }
   ],
   "source": [
    "# list of text documents\n",
    "text = [\"The quick brown fox jumped over the lazy dog.\",\n",
    "\t\t\"The dog.\",\n",
    "\t\t\"The fox\"]\n",
    "# create the transform\n",
    "vectorizer = TfidfVectorizer()\n",
    "# tokenize and build vocab\n",
    "vectorizer.fit(text)\n",
    "# summarize\n",
    "print(vectorizer.vocabulary_)\n",
    "print(vectorizer.idf_)\n",
    "# encode document\n",
    "vector = vectorizer.transform([text[0]])\n",
    "# summarize encoded vector\n",
    "print(vector.shape)\n",
    "print(vector.toarray())"
   ]
  },
  {
   "cell_type": "code",
   "execution_count": 8,
   "metadata": {},
   "outputs": [],
   "source": [
    "tfidf = TfidfVectorizer(min_df=0.005, max_df=0.5).fit(X_train_docs)\n",
    "X_train_tfidf = tfidf.transform(X_train_docs).tocsc()\n",
    "X_val_tfidf = tfidf.transform(X_val_docs).tocsc()\n",
    "X_test_tfidf = tfidf.transform(X_test_docs).tocsc()"
   ]
  },
  {
   "cell_type": "code",
   "execution_count": 9,
   "metadata": {},
   "outputs": [
    {
     "name": "stdout",
     "output_type": "stream",
     "text": [
      "X_train shape: (9051, 2665)\n",
      "X_val shape: (2263, 2665)\n",
      "X_test shape: (7532, 2665)\n",
      "X_train density: 0.023\n"
     ]
    }
   ],
   "source": [
    "print(\"X_train shape: {}\".format(X_train_tfidf.get_shape()))\n",
    "print(\"X_val shape: {}\".format(X_val_tfidf.get_shape()))\n",
    "print(\"X_test shape: {}\".format(X_test_tfidf.get_shape()))\n",
    "print(\"X_train density: {:.3f}\".format(\n",
    "    (X_train_tfidf.nnz / np.prod(X_train_tfidf.shape))))"
   ]
  },
  {
   "cell_type": "code",
   "execution_count": 10,
   "metadata": {},
   "outputs": [
    {
     "name": "stdout",
     "output_type": "stream",
     "text": [
      "[0]\tvalidation_0-merror:0.588443\tvalidation_1-merror:0.600088\n",
      "[11]\tvalidation_0-merror:0.429345\tvalidation_1-merror:0.476359\n",
      "[22]\tvalidation_0-merror:0.390012\tvalidation_1-merror:0.454264\n",
      "[33]\tvalidation_0-merror:0.356093\tvalidation_1-merror:0.443659\n",
      "[44]\tvalidation_0-merror:0.330461\tvalidation_1-merror:0.433053\n",
      "[55]\tvalidation_0-merror:0.308806\tvalidation_1-merror:0.427309\n",
      "[66]\tvalidation_0-merror:0.28936\tvalidation_1-merror:0.423774\n",
      "[77]\tvalidation_0-merror:0.270909\tvalidation_1-merror:0.41361\n",
      "[88]\tvalidation_0-merror:0.256988\tvalidation_1-merror:0.410517\n",
      "[99]\tvalidation_0-merror:0.242404\tvalidation_1-merror:0.410517\n",
      "Test error: 0.462\n"
     ]
    }
   ],
   "source": [
    "clf = xgb.XGBClassifier(seed=42, nthread=1)\n",
    "clf = clf.fit(X_train_tfidf, y_train, \n",
    "              eval_set=[(X_train_tfidf, y_train), (X_val_tfidf, y_val)], \n",
    "              verbose=11)\n",
    "\n",
    "y_pred = clf.predict(X_test_tfidf)\n",
    "y_pred_proba = clf.predict_proba(X_test_tfidf)\n",
    "print(\"Test error: {:.3f}\".format(1 - accuracy_score(y_test, y_pred)))"
   ]
  },
  {
   "cell_type": "code",
   "execution_count": 11,
   "metadata": {},
   "outputs": [],
   "source": [
    "tf = TfidfVectorizer(min_df=0.005, max_df=0.5, use_idf=False).fit(X_train_docs)\n",
    "X_train = tf.transform(X_train_docs).tocsc()\n",
    "X_val = tf.transform(X_val_docs).tocsc()\n",
    "X_test = tf.transform(X_test_docs).tocsc()"
   ]
  },
  {
   "cell_type": "code",
   "execution_count": 12,
   "metadata": {},
   "outputs": [
    {
     "name": "stdout",
     "output_type": "stream",
     "text": [
      "[0]\tvalidation_0-merror:0.588443\tvalidation_1-merror:0.604507\n",
      "[33]\tvalidation_0-merror:0.356093\tvalidation_1-merror:0.443659\n",
      "[66]\tvalidation_0-merror:0.288034\tvalidation_1-merror:0.419355\n",
      "[99]\tvalidation_0-merror:0.241962\tvalidation_1-merror:0.411843\n",
      "Test error: 0.461\n"
     ]
    }
   ],
   "source": [
    "clf = xgb.XGBClassifier(seed=42, nthread=1).fit(X_train, y_train, eval_set=[(X_train, y_train), (X_val, y_val)], verbose=33)\n",
    "\n",
    "y_pred = clf.predict(X_test)\n",
    "print(\"Test error: {:.3f}\".format(1 - accuracy_score(y_test, y_pred)))"
   ]
  },
  {
   "cell_type": "code",
   "execution_count": 13,
   "metadata": {},
   "outputs": [],
   "source": [
    "cv = CountVectorizer(min_df=0.005, max_df=0.5).fit(X_train_docs)\n",
    "\n",
    "X_train_cv = cv.transform(X_train_docs).tocsc()\n",
    "X_val_cv = cv.transform(X_val_docs).tocsc()\n",
    "X_test_cv = cv.transform(X_test_docs).tocsc()\n",
    "\n",
    "X_train_corr = scipy.sparse.hstack([X_train, X_train_cv])\n",
    "X_val_corr = scipy.sparse.hstack([X_val, X_val_cv])\n",
    "X_test_corr = scipy.sparse.hstack([X_test, X_test_cv])"
   ]
  },
  {
   "cell_type": "code",
   "execution_count": 14,
   "metadata": {},
   "outputs": [
    {
     "name": "stdout",
     "output_type": "stream",
     "text": [
      "[0]\tvalidation_0-merror:0.588664\tvalidation_1-merror:0.60274\n",
      "[99]\tvalidation_0-merror:0.240636\tvalidation_1-merror:0.408308\n",
      "Test error: 0.464\n"
     ]
    }
   ],
   "source": [
    "clf = xgb.XGBClassifier(seed=42, nthread=1)\n",
    "clf = clf.fit(X_train_corr, y_train, eval_set=[(X_train_corr, y_train), (X_val_corr, y_val)], verbose=99)\n",
    "\n",
    "y_pred = clf.predict(X_test_corr)\n",
    "print(\"Test error: {:.3f}\".format(1 - accuracy_score(y_test, y_pred)))"
   ]
  },
  {
   "cell_type": "code",
   "execution_count": 15,
   "metadata": {},
   "outputs": [
    {
     "name": "stdout",
     "output_type": "stream",
     "text": [
      "[0]\tvalidation_0-merror:0.588443\tvalidation_1-merror:0.604507\n",
      "[99]\tvalidation_0-merror:0.219755\tvalidation_1-merror:0.417587\n",
      "Test error: 0.471\n"
     ]
    }
   ],
   "source": [
    "def extend_with_random(X, density=0.023):\n",
    "    X_extend = scipy.sparse.random(X.shape[0], 2*X.shape[1], density=density, format='csc')\n",
    "    return scipy.sparse.hstack([X, X_extend])\n",
    "\n",
    "\n",
    "X_train_noise = extend_with_random(X_train)\n",
    "X_val_noise = extend_with_random(X_val)\n",
    "X_test_noise = extend_with_random(X_test)\n",
    "\n",
    "clf = xgb.XGBClassifier(seed=42, nthread=1)\n",
    "clf = clf.fit(X_train_noise, y_train, eval_set=[(X_train_noise, y_train), (X_val_noise, y_val)], verbose=99)\n",
    "\n",
    "y_pred = clf.predict(X_test_noise)\n",
    "print(\"Test error: {:.3f}\".format(1 - accuracy_score(y_test, y_pred)))"
   ]
  },
  {
   "cell_type": "code",
   "execution_count": 16,
   "metadata": {},
   "outputs": [
    {
     "name": "stdout",
     "output_type": "stream",
     "text": [
      "[0]\tvalidation_0-merror:0.588222\tvalidation_1-merror:0.603182\n",
      "[99]\tvalidation_0-merror:0.216109\tvalidation_1-merror:0.419797\n",
      "Test error: 0.463\n"
     ]
    }
   ],
   "source": [
    "def extend_with_random(X, density=0.023):\n",
    "    X_extend = scipy.sparse.random(X.shape[0], 2*X.shape[1], density=density, format='csc')\n",
    "    return scipy.sparse.hstack([X, X_extend])\n",
    "\n",
    "\n",
    "X_train_noise = extend_with_random(X_train)\n",
    "X_val_noise = extend_with_random(X_val)\n",
    "X_test_noise = extend_with_random(X_test)\n",
    "\n",
    "clf = xgb.XGBClassifier(seed=42, nthread=1)\n",
    "clf = clf.fit(X_train_noise, y_train, eval_set=[(X_train_noise, y_train), (X_val_noise, y_val)], verbose=99)\n",
    "\n",
    "y_pred = clf.predict(X_test_noise)\n",
    "print(\"Test error: {:.3f}\".format(1 - accuracy_score(y_test, y_pred)))"
   ]
  },
  {
   "cell_type": "code",
   "execution_count": 17,
   "metadata": {},
   "outputs": [
    {
     "data": {
      "text/plain": [
       "<matplotlib.axes._subplots.AxesSubplot at 0x7fdfdec996d8>"
      ]
     },
     "execution_count": 17,
     "metadata": {},
     "output_type": "execute_result"
    },
    {
     "data": {
      "image/png": "[encoded data removed]",
      "text/plain": [
       "<Figure size 864x360 with 1 Axes>"
      ]
     },
     "metadata": {
      "needs_background": "light"
     },
     "output_type": "display_data"
    }
   ],
   "source": [
    "evals_result = clf.evals_result()\n",
    "train_errors = evals_result['validation_0']['merror']\n",
    "validation_errors = evals_result['validation_1']['merror']\n",
    "df = pd.DataFrame([train_errors, validation_errors]).T\n",
    "df.columns = ['train', 'val']\n",
    "df.index.name = 'round'\n",
    "df.plot(title=\"XGBoost learning curves\", ylim=(0,0.7), figsize=(12,5))"
   ]
  },
  {
   "cell_type": "code",
   "execution_count": 18,
   "metadata": {},
   "outputs": [],
   "source": [
    "results = []\n",
    "\n",
    "for max_depth in [3, 6, 9, 12, 15, 30]:\n",
    "    clf = xgb.XGBClassifier(max_depth=max_depth, n_estimators=20)\n",
    "    clf = clf.fit(X_train, y_train, eval_set=[(X_train, y_train), (X_val, y_val)], verbose=False)\n",
    "    results.append(\n",
    "        {\n",
    "            'max_depth': max_depth,\n",
    "            'train_error': 1 - accuracy_score(y_train, clf.predict(X_train)),\n",
    "            'validation_error': 1 - accuracy_score(y_val, clf.predict(X_val)),\n",
    "            'test_error': 1 - accuracy_score(y_test, clf.predict(X_test))\n",
    "        }\n",
    "    )\n",
    "    "
   ]
  },
  {
   "cell_type": "code",
   "execution_count": 19,
   "metadata": {},
   "outputs": [
    {
     "data": {
      "text/html": [
       "<div>\n",
       "<style scoped>\n",
       "    .dataframe tbody tr th:only-of-type {\n",
       "        vertical-align: middle;\n",
       "    }\n",
       "\n",
       "    .dataframe tbody tr th {\n",
       "        vertical-align: top;\n",
       "    }\n",
       "\n",
       "    .dataframe thead th {\n",
       "        text-align: right;\n",
       "    }\n",
       "</style>\n",
       "<table border=\"1\" class=\"dataframe\">\n",
       "  <thead>\n",
       "    <tr style=\"text-align: right;\">\n",
       "      <th></th>\n",
       "      <th>test_error</th>\n",
       "      <th>train_error</th>\n",
       "      <th>validation_error</th>\n",
       "    </tr>\n",
       "    <tr>\n",
       "      <th>max_depth</th>\n",
       "      <th></th>\n",
       "      <th></th>\n",
       "      <th></th>\n",
       "    </tr>\n",
       "  </thead>\n",
       "  <tbody>\n",
       "    <tr>\n",
       "      <th>3</th>\n",
       "      <td>0.504647</td>\n",
       "      <td>0.398630</td>\n",
       "      <td>0.462218</td>\n",
       "    </tr>\n",
       "    <tr>\n",
       "      <th>6</th>\n",
       "      <td>0.489379</td>\n",
       "      <td>0.292785</td>\n",
       "      <td>0.444101</td>\n",
       "    </tr>\n",
       "    <tr>\n",
       "      <th>9</th>\n",
       "      <td>0.492167</td>\n",
       "      <td>0.219755</td>\n",
       "      <td>0.443217</td>\n",
       "    </tr>\n",
       "    <tr>\n",
       "      <th>12</th>\n",
       "      <td>0.495884</td>\n",
       "      <td>0.169263</td>\n",
       "      <td>0.441008</td>\n",
       "    </tr>\n",
       "    <tr>\n",
       "      <th>15</th>\n",
       "      <td>0.492698</td>\n",
       "      <td>0.134350</td>\n",
       "      <td>0.437914</td>\n",
       "    </tr>\n",
       "    <tr>\n",
       "      <th>30</th>\n",
       "      <td>0.492432</td>\n",
       "      <td>0.064192</td>\n",
       "      <td>0.439682</td>\n",
       "    </tr>\n",
       "  </tbody>\n",
       "</table>\n",
       "</div>"
      ],
      "text/plain": [
       "           test_error  train_error  validation_error\n",
       "max_depth                                           \n",
       "3            0.504647     0.398630          0.462218\n",
       "6            0.489379     0.292785          0.444101\n",
       "9            0.492167     0.219755          0.443217\n",
       "12           0.495884     0.169263          0.441008\n",
       "15           0.492698     0.134350          0.437914\n",
       "30           0.492432     0.064192          0.439682"
      ]
     },
     "execution_count": 19,
     "metadata": {},
     "output_type": "execute_result"
    }
   ],
   "source": [
    "df_max_depth = pd.DataFrame(results).set_index('max_depth').sort_index()\n",
    "df_max_depth"
   ]
  },
  {
   "cell_type": "code",
   "execution_count": 20,
   "metadata": {},
   "outputs": [
    {
     "data": {
      "text/plain": [
       "<matplotlib.axes._subplots.AxesSubplot at 0x7fdfded9ab00>"
      ]
     },
     "execution_count": 20,
     "metadata": {},
     "output_type": "execute_result"
    },
    {
     "data": {
      "image/png": "[encoded data removed]",
      "text/plain": [
       "<Figure size 864x360 with 1 Axes>"
      ]
     },
     "metadata": {
      "needs_background": "light"
     },
     "output_type": "display_data"
    }
   ],
   "source": [
    "df_max_depth.plot(ylim=(0,0.7), figsize=(12,5))"
   ]
  },
  {
   "cell_type": "code",
   "execution_count": 21,
   "metadata": {},
   "outputs": [],
   "source": [
    "results = []\n",
    "\n",
    "for learning_rate in [0.05, 0.1, 0.2, 0.4, 0.6, 0.8, 1.0]:\n",
    "    clf = xgb.XGBClassifier(learning_rate=learning_rate)\n",
    "    clf = clf.fit(X_train, y_train, eval_set=[(X_train, y_train), (X_val, y_val)], verbose=False)\n",
    "    results.append(\n",
    "        {\n",
    "            'learning_rate': learning_rate,\n",
    "            'train_error': 1 - accuracy_score(y_train, clf.predict(X_train)),\n",
    "            'validation_error': 1 - accuracy_score(y_val, clf.predict(X_val)),\n",
    "            'test_error': 1 - accuracy_score(y_test, clf.predict(X_test))\n",
    "        }\n",
    "    )\n",
    "    "
   ]
  },
  {
   "cell_type": "code",
   "execution_count": 22,
   "metadata": {},
   "outputs": [
    {
     "data": {
      "text/html": [
       "<div>\n",
       "<style scoped>\n",
       "    .dataframe tbody tr th:only-of-type {\n",
       "        vertical-align: middle;\n",
       "    }\n",
       "\n",
       "    .dataframe tbody tr th {\n",
       "        vertical-align: top;\n",
       "    }\n",
       "\n",
       "    .dataframe thead th {\n",
       "        text-align: right;\n",
       "    }\n",
       "</style>\n",
       "<table border=\"1\" class=\"dataframe\">\n",
       "  <thead>\n",
       "    <tr style=\"text-align: right;\">\n",
       "      <th></th>\n",
       "      <th>test_error</th>\n",
       "      <th>train_error</th>\n",
       "      <th>validation_error</th>\n",
       "    </tr>\n",
       "    <tr>\n",
       "      <th>learning_rate</th>\n",
       "      <th></th>\n",
       "      <th></th>\n",
       "      <th></th>\n",
       "    </tr>\n",
       "  </thead>\n",
       "  <tbody>\n",
       "    <tr>\n",
       "      <th>0.05</th>\n",
       "      <td>0.479819</td>\n",
       "      <td>0.322285</td>\n",
       "      <td>0.434379</td>\n",
       "    </tr>\n",
       "    <tr>\n",
       "      <th>0.10</th>\n",
       "      <td>0.461365</td>\n",
       "      <td>0.241962</td>\n",
       "      <td>0.411843</td>\n",
       "    </tr>\n",
       "    <tr>\n",
       "      <th>0.20</th>\n",
       "      <td>0.456187</td>\n",
       "      <td>0.158436</td>\n",
       "      <td>0.395493</td>\n",
       "    </tr>\n",
       "    <tr>\n",
       "      <th>0.40</th>\n",
       "      <td>0.467472</td>\n",
       "      <td>0.077781</td>\n",
       "      <td>0.399470</td>\n",
       "    </tr>\n",
       "    <tr>\n",
       "      <th>0.60</th>\n",
       "      <td>0.484466</td>\n",
       "      <td>0.050713</td>\n",
       "      <td>0.412285</td>\n",
       "    </tr>\n",
       "    <tr>\n",
       "      <th>0.80</th>\n",
       "      <td>0.492698</td>\n",
       "      <td>0.039222</td>\n",
       "      <td>0.438356</td>\n",
       "    </tr>\n",
       "    <tr>\n",
       "      <th>1.00</th>\n",
       "      <td>0.501328</td>\n",
       "      <td>0.032925</td>\n",
       "      <td>0.443217</td>\n",
       "    </tr>\n",
       "  </tbody>\n",
       "</table>\n",
       "</div>"
      ],
      "text/plain": [
       "               test_error  train_error  validation_error\n",
       "learning_rate                                           \n",
       "0.05             0.479819     0.322285          0.434379\n",
       "0.10             0.461365     0.241962          0.411843\n",
       "0.20             0.456187     0.158436          0.395493\n",
       "0.40             0.467472     0.077781          0.399470\n",
       "0.60             0.484466     0.050713          0.412285\n",
       "0.80             0.492698     0.039222          0.438356\n",
       "1.00             0.501328     0.032925          0.443217"
      ]
     },
     "execution_count": 22,
     "metadata": {},
     "output_type": "execute_result"
    }
   ],
   "source": [
    "df_learning_rate = pd.DataFrame(results).set_index('learning_rate').sort_index()\n",
    "df_learning_rate"
   ]
  },
  {
   "cell_type": "code",
   "execution_count": 23,
   "metadata": {},
   "outputs": [
    {
     "data": {
      "text/plain": [
       "<matplotlib.axes._subplots.AxesSubplot at 0x7fdfdecdd710>"
      ]
     },
     "execution_count": 23,
     "metadata": {},
     "output_type": "execute_result"
    },
    {
     "data": {
      "image/png": "[encoded data removed]",
      "text/plain": [
       "<Figure size 864x360 with 1 Axes>"
      ]
     },
     "metadata": {
      "needs_background": "light"
     },
     "output_type": "display_data"
    }
   ],
   "source": [
    "df_learning_rate.plot(ylim=(0,0.55), figsize=(12,5))"
   ]
  },
  {
   "cell_type": "code",
   "execution_count": 24,
   "metadata": {},
   "outputs": [],
   "source": [
    "subsample_search_grid = np.arange(0.2, 1.01, 0.2)\n",
    "results = []\n",
    "\n",
    "for subsample in subsample_search_grid:\n",
    "    clf = xgb.XGBClassifier(subsample=subsample, learning_rate=1.0)\n",
    "    clf = clf.fit(X_train, y_train, eval_set=[(X_train, y_train), (X_val, y_val)], verbose=False)\n",
    "    results.append(\n",
    "        {\n",
    "            'subsample': subsample,\n",
    "            'train_error': 1 - accuracy_score(y_train, clf.predict(X_train)),\n",
    "            'validation_error': 1 - accuracy_score(y_val, clf.predict(X_val)),\n",
    "            'test_error': 1 - accuracy_score(y_test, clf.predict(X_test))\n",
    "        }\n",
    "    )\n",
    "    "
   ]
  },
  {
   "cell_type": "code",
   "execution_count": 25,
   "metadata": {},
   "outputs": [
    {
     "data": {
      "text/html": [
       "<div>\n",
       "<style scoped>\n",
       "    .dataframe tbody tr th:only-of-type {\n",
       "        vertical-align: middle;\n",
       "    }\n",
       "\n",
       "    .dataframe tbody tr th {\n",
       "        vertical-align: top;\n",
       "    }\n",
       "\n",
       "    .dataframe thead th {\n",
       "        text-align: right;\n",
       "    }\n",
       "</style>\n",
       "<table border=\"1\" class=\"dataframe\">\n",
       "  <thead>\n",
       "    <tr style=\"text-align: right;\">\n",
       "      <th></th>\n",
       "      <th>test_error</th>\n",
       "      <th>train_error</th>\n",
       "      <th>validation_error</th>\n",
       "    </tr>\n",
       "    <tr>\n",
       "      <th>subsample</th>\n",
       "      <th></th>\n",
       "      <th></th>\n",
       "      <th></th>\n",
       "    </tr>\n",
       "  </thead>\n",
       "  <tbody>\n",
       "    <tr>\n",
       "      <th>0.2</th>\n",
       "      <td>0.634493</td>\n",
       "      <td>0.275218</td>\n",
       "      <td>0.589041</td>\n",
       "    </tr>\n",
       "    <tr>\n",
       "      <th>0.4</th>\n",
       "      <td>0.550717</td>\n",
       "      <td>0.051044</td>\n",
       "      <td>0.495360</td>\n",
       "    </tr>\n",
       "    <tr>\n",
       "      <th>0.6</th>\n",
       "      <td>0.527748</td>\n",
       "      <td>0.035576</td>\n",
       "      <td>0.477243</td>\n",
       "    </tr>\n",
       "    <tr>\n",
       "      <th>0.8</th>\n",
       "      <td>0.516198</td>\n",
       "      <td>0.034140</td>\n",
       "      <td>0.463544</td>\n",
       "    </tr>\n",
       "    <tr>\n",
       "      <th>1.0</th>\n",
       "      <td>0.501328</td>\n",
       "      <td>0.032925</td>\n",
       "      <td>0.443217</td>\n",
       "    </tr>\n",
       "  </tbody>\n",
       "</table>\n",
       "</div>"
      ],
      "text/plain": [
       "           test_error  train_error  validation_error\n",
       "subsample                                           \n",
       "0.2          0.634493     0.275218          0.589041\n",
       "0.4          0.550717     0.051044          0.495360\n",
       "0.6          0.527748     0.035576          0.477243\n",
       "0.8          0.516198     0.034140          0.463544\n",
       "1.0          0.501328     0.032925          0.443217"
      ]
     },
     "execution_count": 25,
     "metadata": {},
     "output_type": "execute_result"
    }
   ],
   "source": [
    "df_subsample = pd.DataFrame(results).set_index('subsample').sort_index()\n",
    "df_subsample"
   ]
  },
  {
   "cell_type": "code",
   "execution_count": 26,
   "metadata": {},
   "outputs": [
    {
     "data": {
      "text/plain": [
       "<matplotlib.axes._subplots.AxesSubplot at 0x7fdfded4bf60>"
      ]
     },
     "execution_count": 26,
     "metadata": {},
     "output_type": "execute_result"
    },
    {
     "data": {
      "image/png": "[encoded data removed]",
      "text/plain": [
       "<Figure size 864x360 with 1 Axes>"
      ]
     },
     "metadata": {
      "needs_background": "light"
     },
     "output_type": "display_data"
    }
   ],
   "source": [
    "df_subsample.plot(ylim=(0,0.7), figsize=(12,5))"
   ]
  },
  {
   "cell_type": "code",
   "execution_count": 27,
   "metadata": {},
   "outputs": [],
   "source": [
    "colsample_bytree_search_grid = np.arange(0.2, 1.01, 0.2)\n",
    "results = []\n",
    "\n",
    "for colsample_bytree in colsample_bytree_search_grid:\n",
    "    clf = xgb.XGBClassifier(colsample_bytree=colsample_bytree, learning_rate=1.0)\n",
    "    clf = clf.fit(X_train, y_train, eval_set=[(X_train, y_train), (X_val, y_val)], verbose=False)\n",
    "    results.append(\n",
    "        {\n",
    "            'colsample_bytree': colsample_bytree,\n",
    "            'train_error': 1 - accuracy_score(y_train, clf.predict(X_train)),\n",
    "            'validation_error': 1 - accuracy_score(y_val, clf.predict(X_val)),\n",
    "            'test_error': 1 - accuracy_score(y_test, clf.predict(X_test))\n",
    "        }\n",
    "    )\n",
    "    "
   ]
  },
  {
   "cell_type": "code",
   "execution_count": 28,
   "metadata": {},
   "outputs": [
    {
     "data": {
      "text/html": [
       "<div>\n",
       "<style scoped>\n",
       "    .dataframe tbody tr th:only-of-type {\n",
       "        vertical-align: middle;\n",
       "    }\n",
       "\n",
       "    .dataframe tbody tr th {\n",
       "        vertical-align: top;\n",
       "    }\n",
       "\n",
       "    .dataframe thead th {\n",
       "        text-align: right;\n",
       "    }\n",
       "</style>\n",
       "<table border=\"1\" class=\"dataframe\">\n",
       "  <thead>\n",
       "    <tr style=\"text-align: right;\">\n",
       "      <th></th>\n",
       "      <th>test_error</th>\n",
       "      <th>train_error</th>\n",
       "      <th>validation_error</th>\n",
       "    </tr>\n",
       "    <tr>\n",
       "      <th>colsample_bytree</th>\n",
       "      <th></th>\n",
       "      <th></th>\n",
       "      <th></th>\n",
       "    </tr>\n",
       "  </thead>\n",
       "  <tbody>\n",
       "    <tr>\n",
       "      <th>0.2</th>\n",
       "      <td>0.499867</td>\n",
       "      <td>0.036902</td>\n",
       "      <td>0.445868</td>\n",
       "    </tr>\n",
       "    <tr>\n",
       "      <th>0.4</th>\n",
       "      <td>0.503319</td>\n",
       "      <td>0.034692</td>\n",
       "      <td>0.455590</td>\n",
       "    </tr>\n",
       "    <tr>\n",
       "      <th>0.6</th>\n",
       "      <td>0.507037</td>\n",
       "      <td>0.033146</td>\n",
       "      <td>0.438798</td>\n",
       "    </tr>\n",
       "    <tr>\n",
       "      <th>0.8</th>\n",
       "      <td>0.504912</td>\n",
       "      <td>0.033256</td>\n",
       "      <td>0.449403</td>\n",
       "    </tr>\n",
       "    <tr>\n",
       "      <th>1.0</th>\n",
       "      <td>0.501328</td>\n",
       "      <td>0.032925</td>\n",
       "      <td>0.443217</td>\n",
       "    </tr>\n",
       "  </tbody>\n",
       "</table>\n",
       "</div>"
      ],
      "text/plain": [
       "                  test_error  train_error  validation_error\n",
       "colsample_bytree                                           \n",
       "0.2                 0.499867     0.036902          0.445868\n",
       "0.4                 0.503319     0.034692          0.455590\n",
       "0.6                 0.507037     0.033146          0.438798\n",
       "0.8                 0.504912     0.033256          0.449403\n",
       "1.0                 0.501328     0.032925          0.443217"
      ]
     },
     "execution_count": 28,
     "metadata": {},
     "output_type": "execute_result"
    }
   ],
   "source": [
    "df_colsample_bytree = pd.DataFrame(results).set_index('colsample_bytree').sort_index()\n",
    "df_colsample_bytree"
   ]
  },
  {
   "cell_type": "code",
   "execution_count": 29,
   "metadata": {},
   "outputs": [
    {
     "data": {
      "text/plain": [
       "<matplotlib.axes._subplots.AxesSubplot at 0x7fdfdecf99e8>"
      ]
     },
     "execution_count": 29,
     "metadata": {},
     "output_type": "execute_result"
    },
    {
     "data": {
      "image/png": "[encoded data removed]",
      "text/plain": [
       "<Figure size 864x360 with 1 Axes>"
      ]
     },
     "metadata": {
      "needs_background": "light"
     },
     "output_type": "display_data"
    }
   ],
   "source": [
    "df_colsample_bytree.plot(ylim=(0,0.55), figsize=(12,5))"
   ]
  },
  {
   "cell_type": "code",
   "execution_count": 30,
   "metadata": {},
   "outputs": [],
   "source": [
    "colsample_bylevel_search_grid = np.arange(0.2, 1.01, 0.2)\n",
    "results = []\n",
    "\n",
    "for colsample_bylevel in colsample_bylevel_search_grid:\n",
    "    clf = xgb.XGBClassifier(colsample_bylevel=colsample_bylevel, learning_rate=1.0)\n",
    "    clf = clf.fit(X_train, y_train, eval_set=[(X_train, y_train), (X_val, y_val)], verbose=False)\n",
    "    results.append(\n",
    "        {\n",
    "            'colsample_bylevel': colsample_bylevel,\n",
    "            'train_error': 1 - accuracy_score(y_train, clf.predict(X_train)),\n",
    "            'validation_error': 1 - accuracy_score(y_val, clf.predict(X_val)),\n",
    "            'test_error': 1 - accuracy_score(y_test, clf.predict(X_test))\n",
    "        }\n",
    "    )\n",
    "    "
   ]
  },
  {
   "cell_type": "code",
   "execution_count": 31,
   "metadata": {},
   "outputs": [
    {
     "data": {
      "text/html": [
       "<div>\n",
       "<style scoped>\n",
       "    .dataframe tbody tr th:only-of-type {\n",
       "        vertical-align: middle;\n",
       "    }\n",
       "\n",
       "    .dataframe tbody tr th {\n",
       "        vertical-align: top;\n",
       "    }\n",
       "\n",
       "    .dataframe thead th {\n",
       "        text-align: right;\n",
       "    }\n",
       "</style>\n",
       "<table border=\"1\" class=\"dataframe\">\n",
       "  <thead>\n",
       "    <tr style=\"text-align: right;\">\n",
       "      <th></th>\n",
       "      <th>test_error</th>\n",
       "      <th>train_error</th>\n",
       "      <th>validation_error</th>\n",
       "    </tr>\n",
       "    <tr>\n",
       "      <th>colsample_bylevel</th>\n",
       "      <th></th>\n",
       "      <th></th>\n",
       "      <th></th>\n",
       "    </tr>\n",
       "  </thead>\n",
       "  <tbody>\n",
       "    <tr>\n",
       "      <th>0.2</th>\n",
       "      <td>0.498407</td>\n",
       "      <td>0.036239</td>\n",
       "      <td>0.425099</td>\n",
       "    </tr>\n",
       "    <tr>\n",
       "      <th>0.4</th>\n",
       "      <td>0.502257</td>\n",
       "      <td>0.035024</td>\n",
       "      <td>0.443659</td>\n",
       "    </tr>\n",
       "    <tr>\n",
       "      <th>0.6</th>\n",
       "      <td>0.498008</td>\n",
       "      <td>0.034803</td>\n",
       "      <td>0.437914</td>\n",
       "    </tr>\n",
       "    <tr>\n",
       "      <th>0.8</th>\n",
       "      <td>0.503186</td>\n",
       "      <td>0.033035</td>\n",
       "      <td>0.445868</td>\n",
       "    </tr>\n",
       "    <tr>\n",
       "      <th>1.0</th>\n",
       "      <td>0.501328</td>\n",
       "      <td>0.032925</td>\n",
       "      <td>0.443217</td>\n",
       "    </tr>\n",
       "  </tbody>\n",
       "</table>\n",
       "</div>"
      ],
      "text/plain": [
       "                   test_error  train_error  validation_error\n",
       "colsample_bylevel                                           \n",
       "0.2                  0.498407     0.036239          0.425099\n",
       "0.4                  0.502257     0.035024          0.443659\n",
       "0.6                  0.498008     0.034803          0.437914\n",
       "0.8                  0.503186     0.033035          0.445868\n",
       "1.0                  0.501328     0.032925          0.443217"
      ]
     },
     "execution_count": 31,
     "metadata": {},
     "output_type": "execute_result"
    }
   ],
   "source": [
    "df_colsample_bylevel = pd.DataFrame(results).set_index('colsample_bylevel').sort_index()\n",
    "df_colsample_bylevel"
   ]
  },
  {
   "cell_type": "code",
   "execution_count": 32,
   "metadata": {},
   "outputs": [
    {
     "data": {
      "text/plain": [
       "<matplotlib.axes._subplots.AxesSubplot at 0x7fdfded0a9b0>"
      ]
     },
     "execution_count": 32,
     "metadata": {},
     "output_type": "execute_result"
    },
    {
     "data": {
      "image/png": "[encoded data removed]",
      "text/plain": [
       "<Figure size 864x360 with 1 Axes>"
      ]
     },
     "metadata": {
      "needs_background": "light"
     },
     "output_type": "display_data"
    }
   ],
   "source": [
    "df_colsample_bylevel.plot(ylim=(0,0.55), figsize=(12,5))"
   ]
  },
  {
   "cell_type": "code",
   "execution_count": 33,
   "metadata": {},
   "outputs": [
    {
     "data": {
      "text/plain": [
       "<matplotlib.axes._subplots.AxesSubplot at 0x7fdfdfc1a7b8>"
      ]
     },
     "execution_count": 33,
     "metadata": {},
     "output_type": "execute_result"
    },
    {
     "data": {
      "image/png": "[encoded data removed]",
      "text/plain": [
       "<Figure size 864x360 with 1 Axes>"
      ]
     },
     "metadata": {
      "needs_background": "light"
     },
     "output_type": "display_data"
    }
   ],
   "source": [
    "# tf was our TfIdfVectorizer\n",
    "# clf is our trained xgboost\n",
    "type(clf.feature_importances_)\n",
    "df = pd.DataFrame([tf.get_feature_names(), list(clf.feature_importances_)]).T\n",
    "df.columns = ['feature_name', 'feature_score']\n",
    "df.sort_values('feature_score', ascending=False, inplace=True)\n",
    "df.set_index('feature_name', inplace=True)\n",
    "df.iloc[:10].plot(kind='barh', legend=False, figsize=(12,5))"
   ]
  },
  {
   "cell_type": "code",
   "execution_count": null,
   "metadata": {},
   "outputs": [],
   "source": []
  }
 ],
 "metadata": {
  "kernelspec": {
   "display_name": "Python 3",
   "language": "python",
   "name": "python3"
  },
  "language_info": {
   "codemirror_mode": {
    "name": "ipython",
    "version": 3
   },
   "file_extension": ".py",
   "mimetype": "text/x-python",
   "name": "python",
   "nbconvert_exporter": "python",
   "pygments_lexer": "ipython3",
   "version": "3.6.7"
  }
 },
 "nbformat": 4,
 "nbformat_minor": 2
}
