{
 "cells": [
  {
   "cell_type": "code",
   "execution_count": null,
   "metadata": {},
   "outputs": [],
   "source": [
    "#Importing Libraries for data preparation\n",
    "import pandas as pd\n",
    "import numpy as np\n",
    "from fastai.imports import *\n",
    "from fastai.structured import *\n",
    "train = pd.read_csv(\"train_black_friday.csv\")\n",
    "test = pd.read_csv(\"test_black_friday.csv\")"
   ]
  },
  {
   "cell_type": "code",
   "execution_count": 2,
   "metadata": {},
   "outputs": [],
   "source": [
    "train_cats(train)"
   ]
  },
  {
   "cell_type": "code",
   "execution_count": 3,
   "metadata": {},
   "outputs": [],
   "source": [
    "df, y, nas = proc_df(train, 'Purchase')"
   ]
  },
  {
   "cell_type": "code",
   "execution_count": 4,
   "metadata": {},
   "outputs": [],
   "source": [
    "#Creata a validation set\n",
    "from sklearn.model_selection import train_test_split\n",
    "X_train, X_valid, y_train, y_valid = train_test_split(df, y, test_size=0.30, random_state=42)"
   ]
  },
  {
   "cell_type": "code",
   "execution_count": 5,
   "metadata": {},
   "outputs": [
    {
     "data": {
      "text/plain": [
       "RandomForestRegressor(bootstrap=True, criterion='mse', max_depth=None,\n",
       "                      max_features='auto', max_leaf_nodes=None,\n",
       "                      min_impurity_decrease=0.0, min_impurity_split=None,\n",
       "                      min_samples_leaf=1, min_samples_split=2,\n",
       "                      min_weight_fraction_leaf=0.0, n_estimators=10,\n",
       "                      n_jobs=None, oob_score=False, random_state=None,\n",
       "                      verbose=0, warm_start=False)"
      ]
     },
     "execution_count": 5,
     "metadata": {},
     "output_type": "execute_result"
    }
   ],
   "source": [
    "#import necessary libraries to build model\n",
    "import random\n",
    "from sklearn.ensemble import RandomForestRegressor\n",
    "\n",
    "random.seed(42)\n",
    "rf = RandomForestRegressor(n_estimators=10)\n",
    "rf.fit(X_train, y_train)"
   ]
  },
  {
   "cell_type": "code",
   "execution_count": 9,
   "metadata": {},
   "outputs": [
    {
     "name": "stdout",
     "output_type": "stream",
     "text": [
      "_________________________________________________________________\n",
      "Layer (type)                 Output Shape              Param #   \n",
      "=================================================================\n",
      "dense_4 (Dense)              (None, 100)               1400      \n",
      "_________________________________________________________________\n",
      "dense_5 (Dense)              (None, 50)                5050      \n",
      "_________________________________________________________________\n",
      "dense_6 (Dense)              (None, 1)                 51        \n",
      "=================================================================\n",
      "Total params: 6,501\n",
      "Trainable params: 6,501\n",
      "Non-trainable params: 0\n",
      "_________________________________________________________________\n"
     ]
    }
   ],
   "source": [
    "from keras.models import Sequential\n",
    "from keras.layers import Dense, Activation\n",
    "\n",
    "# Define model\n",
    "model = Sequential()\n",
    "model.add(Dense(100, input_dim=13, activation= \"relu\"))\n",
    "model.add(Dense(50, activation= \"relu\"))\n",
    "model.add(Dense(1))\n",
    "model.summary() #Print model Summary"
   ]
  },
  {
   "cell_type": "code",
   "execution_count": 10,
   "metadata": {},
   "outputs": [],
   "source": [
    "# Compile model\n",
    "model.compile(loss= \"mean_squared_error\" , optimizer=\"adam\", metrics=[\"mean_squared_error\"])"
   ]
  },
  {
   "cell_type": "code",
   "execution_count": 11,
   "metadata": {},
   "outputs": [
    {
     "name": "stdout",
     "output_type": "stream",
     "text": [
      "WARNING:tensorflow:From /usr/local/lib/python3.6/dist-packages/tensorflow/python/ops/math_ops.py:3066: to_int32 (from tensorflow.python.ops.math_ops) is deprecated and will be removed in a future version.\n",
      "Instructions for updating:\n",
      "Use tf.cast instead.\n",
      "Epoch 1/10\n",
      "385047/385047 [==============================] - 26s 68us/step - loss: 29967971.9093 - mean_squared_error: 29967971.9093\n",
      "Epoch 2/10\n",
      "385047/385047 [==============================] - 26s 67us/step - loss: 25318674.5732 - mean_squared_error: 25318674.5732\n",
      "Epoch 3/10\n",
      "385047/385047 [==============================] - 17s 44us/step - loss: 25047779.0989 - mean_squared_error: 25047779.0989\n",
      "Epoch 4/10\n",
      "385047/385047 [==============================] - 17s 44us/step - loss: 24972799.2677 - mean_squared_error: 24972799.2677\n",
      "Epoch 5/10\n",
      "385047/385047 [==============================] - 16s 42us/step - loss: 24953929.4016 - mean_squared_error: 24953929.4016\n",
      "Epoch 6/10\n",
      "385047/385047 [==============================] - 17s 43us/step - loss: 24916461.9485 - mean_squared_error: 24916461.9485\n",
      "Epoch 7/10\n",
      "385047/385047 [==============================] - 17s 44us/step - loss: 24882748.8650 - mean_squared_error: 24882748.8650\n",
      "Epoch 8/10\n",
      "385047/385047 [==============================] - 17s 44us/step - loss: 24819356.9058 - mean_squared_error: 24819356.9058\n",
      "Epoch 9/10\n",
      "385047/385047 [==============================] - 17s 44us/step - loss: 24736115.7521 - mean_squared_error: 24736115.7521\n",
      "Epoch 10/10\n",
      "385047/385047 [==============================] - 17s 44us/step - loss: 24604708.3067 - mean_squared_error: 24604708.3067\n"
     ]
    },
    {
     "data": {
      "text/plain": [
       "<keras.callbacks.History at 0x7fc478c6f7f0>"
      ]
     },
     "execution_count": 11,
     "metadata": {},
     "output_type": "execute_result"
    }
   ],
   "source": [
    "# Fit Model\n",
    "model.fit(X_train, y_train, epochs=10)"
   ]
  },
  {
   "cell_type": "code",
   "execution_count": null,
   "metadata": {},
   "outputs": [
    {
     "name": "stdout",
     "output_type": "stream",
     "text": [
      "Train on 385047 samples, validate on 165021 samples\n",
      "Epoch 1/10\n",
      "385047/385047 [==============================] - 21s 54us/step - loss: 24166048.6408 - mean_squared_error: 24166048.6408 - val_loss: 23291785.0526 - val_mean_squared_error: 23291785.0526\n",
      "Epoch 2/10\n",
      "385047/385047 [==============================] - 19s 48us/step - loss: 23637444.3672 - mean_squared_error: 23637444.3672 - val_loss: 23465610.2141 - val_mean_squared_error: 23465610.2141\n",
      "Epoch 3/10\n",
      "385047/385047 [==============================] - 19s 49us/step - loss: 23340421.6034 - mean_squared_error: 23340421.6034 - val_loss: 24940285.6702 - val_mean_squared_error: 24940285.6702\n",
      "Epoch 4/10\n",
      "385047/385047 [==============================] - 18s 48us/step - loss: 22883232.2431 - mean_squared_error: 22883232.2431 - val_loss: 22456636.4201 - val_mean_squared_error: 22456636.4201\n",
      "Epoch 5/10\n",
      "385047/385047 [==============================] - 19s 50us/step - loss: 22764745.6033 - mean_squared_error: 22764745.6033 - val_loss: 22750086.9857 - val_mean_squared_error: 22750086.9857\n",
      "Epoch 6/10\n",
      "385047/385047 [==============================] - 21s 54us/step - loss: 22697058.4538 - mean_squared_error: 22697058.4538 - val_loss: 22350065.2583 - val_mean_squared_error: 22350065.2583\n",
      "Epoch 7/10\n",
      "385047/385047 [==============================] - 28s 72us/step - loss: 22706960.0687 - mean_squared_error: 22706960.0687 - val_loss: 22223344.4580 - val_mean_squared_error: 22223344.4580\n",
      "Epoch 8/10\n",
      "312736/385047 [=======================>......] - ETA: 3s - loss: 22725079.8167 - mean_squared_error: 22725079.8167"
     ]
    }
   ],
   "source": [
    "# Evaluation while fitting the model\n",
    "model.fit(X_train, y_train, epochs=10, validation_data=(X_valid, y_valid))"
   ]
  },
  {
   "cell_type": "code",
   "execution_count": null,
   "metadata": {},
   "outputs": [],
   "source": [
    "from sklearn.metrics import mean_squared_error"
   ]
  },
  {
   "cell_type": "code",
   "execution_count": null,
   "metadata": {},
   "outputs": [],
   "source": [
    "#Prediction using Random Forest \n",
    "y_valid_rf = rf.predict(X_valid)\n",
    "score = np.sqrt(mean_squared_error(y_valid,y_valid_rf))\n",
    "print (score)"
   ]
  },
  {
   "cell_type": "code",
   "execution_count": null,
   "metadata": {},
   "outputs": [],
   "source": [
    "#Prediction using Neural Network\n",
    "y_valid_nn = model.predict(X_valid)\n",
    "score = np.sqrt(mean_squared_error(y_valid,y_valid_nn))\n",
    "print (score)"
   ]
  },
  {
   "cell_type": "code",
   "execution_count": null,
   "metadata": {},
   "outputs": [],
   "source": []
  }
 ],
 "metadata": {
  "kernelspec": {
   "display_name": "Python 3",
   "language": "python",
   "name": "python3"
  },
  "language_info": {
   "codemirror_mode": {
    "name": "ipython",
    "version": 3
   },
   "file_extension": ".py",
   "mimetype": "text/x-python",
   "name": "python",
   "nbconvert_exporter": "python",
   "pygments_lexer": "ipython3",
   "version": "3.6.8"
  }
 },
 "nbformat": 4,
 "nbformat_minor": 2
}
