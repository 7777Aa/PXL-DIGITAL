{
 "cells": [
  {
   "cell_type": "code",
   "execution_count": 1,
   "metadata": {},
   "outputs": [],
   "source": [
    "import math\n",
    "\n",
    "def variantie(n, p):\n",
    "    return math.factorial(n) / math.factorial(n - p)\n",
    "\n",
    "def permutatie(n):\n",
    "    return math.factorial(n)\n",
    "\n",
    "def herhalingsvariatie(n, p):\n",
    "    return math.pow(n, p)\n",
    "\n",
    "def combinatie(n, p):\n",
    "    return math.factorial(n) / (math.factorial(p) * math.factorial(n - p))"
   ]
  },
  {
   "cell_type": "code",
   "execution_count": 4,
   "metadata": {},
   "outputs": [
    {
     "name": "stdout",
     "output_type": "stream",
     "text": [
      "Press a number for calculation 1 Variatie, 2 Permutatie, 3 Herhalingsvariatie, 4 Combinatie: 1\n",
      "Give n: 5\n",
      "Give p: 1\n",
      "The answer is: 5.0\n"
     ]
    }
   ],
   "source": [
    "number_calculation = int(input('Press a number for calculation 1 Variatie, 2 Permutatie, 3 Herhalingsvariatie, 4 Combinatie: '))\n",
    "n = int(input('Give n: '))\n",
    "p = int(input('Give p: '))\n",
    "\n",
    "if number_calculation == 1:\n",
    "    print('The answer is: ' + str(variantie(n, p)))\n",
    "elif number_calculation == 2:\n",
    "    print('The answer: ' + str(permutatie(n)))\n",
    "elif number_calculation == 3:\n",
    "    print('The answer: ' + str(herhalingsvariatie(n, p)))\n",
    "elif number_calculation == 4:\n",
    "    print('The answer: ' + str(combinatie(n, p)))\n",
    "else:\n",
    "    print('Wrong number')"
   ]
  },
  {
   "cell_type": "code",
   "execution_count": null,
   "metadata": {},
   "outputs": [],
   "source": []
  }
 ],
 "metadata": {
  "kernelspec": {
   "display_name": "Python 3",
   "language": "python",
   "name": "python3"
  },
  "language_info": {
   "codemirror_mode": {
    "name": "ipython",
    "version": 3
   },
   "file_extension": ".py",
   "mimetype": "text/x-python",
   "name": "python",
   "nbconvert_exporter": "python",
   "pygments_lexer": "ipython3",
   "version": "3.7.3"
  }
 },
 "nbformat": 4,
 "nbformat_minor": 2
}
