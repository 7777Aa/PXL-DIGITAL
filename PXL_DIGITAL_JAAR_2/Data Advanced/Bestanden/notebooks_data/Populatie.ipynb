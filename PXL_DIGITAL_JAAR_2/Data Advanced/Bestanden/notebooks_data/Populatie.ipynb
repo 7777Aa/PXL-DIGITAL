{
 "cells": [
  {
   "cell_type": "code",
   "execution_count": 1,
   "metadata": {},
   "outputs": [],
   "source": [
    "%config IPCompleter.greedy=True"
   ]
  },
  {
   "cell_type": "code",
   "execution_count": 2,
   "metadata": {},
   "outputs": [],
   "source": [
    "import scipy.stats as stats\n",
    "import math"
   ]
  },
  {
   "cell_type": "markdown",
   "metadata": {},
   "source": [
    "Berekening van de kans -> cdf\n",
    "\n",
    "Berekening van de hoeveelheid, grootte, tijd... -> ppf"
   ]
  },
  {
   "cell_type": "code",
   "execution_count": 54,
   "metadata": {},
   "outputs": [
    {
     "name": "stdout",
     "output_type": "stream",
     "text": [
      "PPF\n",
      "nan\n",
      "CDF GEEN STEEKPROEF (minder)\n",
      "0.09999150009767466\n",
      "CDF GEEN STEEKPROEF (meer)\n",
      "0.9000084999023253\n",
      "CDF GEEN STEEKPROEF (tussen 2 grenzen)\n",
      "0.0\n"
     ]
    }
   ],
   "source": [
    "# GEEN STEEKPROEF\n",
    "gemiddelde = 506.408\n",
    "standaardafwijking = 5\n",
    "grens = 500\n",
    "\n",
    "grootstegrens = 67\n",
    "kleinstegrens = 53\n",
    "\n",
    "print(\"PPF\")\n",
    "print(stats.norm.ppf(grens, gemiddelde, standaardafwijking))\n",
    "\n",
    "print(\"CDF GEEN STEEKPROEF (minder)\")\n",
    "print(stats.norm.cdf(grens, gemiddelde, standaardafwijking))\n",
    "\n",
    "print(\"CDF GEEN STEEKPROEF (meer)\")\n",
    "print(1 - stats.norm.cdf(grens, gemiddelde, standaardafwijking))\n",
    "\n",
    "print(\"CDF GEEN STEEKPROEF (tussen 2 grenzen)\")\n",
    "print(stats.norm.cdf(grootstegrens, gemiddelde, standaardafwijking) \\\n",
    "      - stats.norm.cdf(kleinstegrens, gemiddelde, standaardafwijking))"
   ]
  },
  {
   "cell_type": "code",
   "execution_count": 45,
   "metadata": {},
   "outputs": [
    {
     "name": "stdout",
     "output_type": "stream",
     "text": [
      "CDF WEL STEEKPROEF (minder)\n",
      "0.9999983207408354\n",
      "CDF WEL STEEKPROEF (meer)\n",
      "1.679259164610869e-06\n",
      "CDF WEL STEEKPROEF (tussen 2 grenzen)\n",
      "0.7200433617802591\n"
     ]
    }
   ],
   "source": [
    "# WEL STEEKPROEF (standaardafwijking gekend)\n",
    "gemiddelde = 110\n",
    "standaardafwijking = 25\n",
    "steekproef = 15\n",
    "\n",
    "grens = 140\n",
    "\n",
    "grootstegrens = 120\n",
    "kleinstegrens = 105\n",
    "print(\"CDF WEL STEEKPROEF (minder)\")\n",
    "print(stats.norm.cdf(grens, gemiddelde, math.sqrt(math.pow(standaardafwijking, 2) / steekproef)))\n",
    "\n",
    "print(\"CDF WEL STEEKPROEF (meer)\")\n",
    "print(1 - stats.norm.cdf(grens, gemiddelde, math.sqrt(math.pow(standaardafwijking, 2) / steekproef)))\n",
    "\n",
    "print(\"CDF WEL STEEKPROEF (tussen 2 grenzen)\")\n",
    "print(stats.norm.cdf(grootstegrens, gemiddelde, math.sqrt(math.pow(standaardafwijking, 2) / steekproef)) \\\n",
    "     - stats.norm.cdf(kleinstegrens, gemiddelde, math.sqrt(math.pow(standaardafwijking, 2) / steekproef)))"
   ]
  },
  {
   "cell_type": "code",
   "execution_count": 44,
   "metadata": {},
   "outputs": [
    {
     "name": "stdout",
     "output_type": "stream",
     "text": [
      "CDF WEL STEEKPROEF (minder)\n"
     ]
    },
    {
     "ename": "ValueError",
     "evalue": "math domain error",
     "output_type": "error",
     "traceback": [
      "\u001b[1;31m---------------------------------------------------------------------------\u001b[0m",
      "\u001b[1;31mValueError\u001b[0m                                Traceback (most recent call last)",
      "\u001b[1;32m<ipython-input-44-84d1b3215c3f>\u001b[0m in \u001b[0;36m<module>\u001b[1;34m\u001b[0m\n\u001b[0;32m      8\u001b[0m \u001b[0mkleinstegrens\u001b[0m \u001b[1;33m=\u001b[0m \u001b[1;36m105\u001b[0m\u001b[1;33m\u001b[0m\u001b[1;33m\u001b[0m\u001b[0m\n\u001b[0;32m      9\u001b[0m \u001b[0mprint\u001b[0m\u001b[1;33m(\u001b[0m\u001b[1;34m\"CDF WEL STEEKPROEF (minder)\"\u001b[0m\u001b[1;33m)\u001b[0m\u001b[1;33m\u001b[0m\u001b[1;33m\u001b[0m\u001b[0m\n\u001b[1;32m---> 10\u001b[1;33m \u001b[0mprint\u001b[0m\u001b[1;33m(\u001b[0m\u001b[0mstats\u001b[0m\u001b[1;33m.\u001b[0m\u001b[0mnorm\u001b[0m\u001b[1;33m.\u001b[0m\u001b[0mcdf\u001b[0m\u001b[1;33m(\u001b[0m\u001b[0mgrens\u001b[0m\u001b[1;33m,\u001b[0m \u001b[0mgemiddelde\u001b[0m\u001b[1;33m,\u001b[0m \u001b[0mmath\u001b[0m\u001b[1;33m.\u001b[0m\u001b[0msqrt\u001b[0m\u001b[1;33m(\u001b[0m\u001b[1;33m(\u001b[0m\u001b[1;36m1\u001b[0m \u001b[1;33m-\u001b[0m \u001b[0mgemiddelde\u001b[0m\u001b[1;33m)\u001b[0m \u001b[1;33m*\u001b[0m \u001b[0mgemiddelde\u001b[0m \u001b[1;33m/\u001b[0m \u001b[0msteekproef\u001b[0m\u001b[1;33m)\u001b[0m\u001b[1;33m)\u001b[0m\u001b[1;33m)\u001b[0m\u001b[1;33m\u001b[0m\u001b[1;33m\u001b[0m\u001b[0m\n\u001b[0m\u001b[0;32m     11\u001b[0m \u001b[1;33m\u001b[0m\u001b[0m\n\u001b[0;32m     12\u001b[0m \u001b[0mprint\u001b[0m\u001b[1;33m(\u001b[0m\u001b[1;34m\"CDF WEL STEEKPROEF (meer)\"\u001b[0m\u001b[1;33m)\u001b[0m\u001b[1;33m\u001b[0m\u001b[1;33m\u001b[0m\u001b[0m\n",
      "\u001b[1;31mValueError\u001b[0m: math domain error"
     ]
    }
   ],
   "source": [
    "# WEL STEEKPROEF (standaardafwijking NIET gekend)\n",
    "gemiddelde = 110\n",
    "steekproef = 25\n",
    "\n",
    "grens = 0.17\n",
    "\n",
    "grootstegrens = 120\n",
    "kleinstegrens = 105\n",
    "print(\"CDF WEL STEEKPROEF (minder)\")\n",
    "print(stats.norm.cdf(grens, gemiddelde, math.sqrt((1 - gemiddelde) * gemiddelde / steekproef)))\n",
    "\n",
    "print(\"CDF WEL STEEKPROEF (meer)\")\n",
    "print(1 - stats.norm.cdf(grens, gemiddelde, math.sqrt((1 - gemiddelde) * gemiddelde / steekproef)))\n",
    "\n",
    "print(\"CDF WEL STEEKPROEF (tussen 2 grenzen)\")\n",
    "print(stats.norm.cdf(grootstegrens, gemiddelde, math.sqrt((1 - gemiddelde) * gemiddelde / steekproef)) \\\n",
    "     - stats.norm.cdf(kleinstegrens, gemiddelde, math.sqrt((1 - gemiddelde) * gemiddelde / steekproef)))"
   ]
  },
  {
   "cell_type": "markdown",
   "metadata": {},
   "source": [
    "# Oefening 4"
   ]
  },
  {
   "cell_type": "code",
   "execution_count": 3,
   "metadata": {},
   "outputs": [
    {
     "data": {
      "text/plain": [
       "0.9181284878696232"
      ]
     },
     "execution_count": 3,
     "metadata": {},
     "output_type": "execute_result"
    }
   ],
   "source": [
    "# a\n",
    "stats.norm.cdf(180, 170.6, 6.75)\n",
    "# derde parameter is de standaardafwijking!!"
   ]
  },
  {
   "cell_type": "code",
   "execution_count": 4,
   "metadata": {},
   "outputs": [
    {
     "data": {
      "text/plain": [
       "0.684587140248381"
      ]
     },
     "execution_count": 4,
     "metadata": {},
     "output_type": "execute_result"
    }
   ],
   "source": [
    "# b\n",
    "stats.norm.cdf(175, 170.6, 6.75) - stats.norm.cdf(160, 170.6, 6.75)"
   ]
  },
  {
   "cell_type": "code",
   "execution_count": 5,
   "metadata": {},
   "outputs": [
    {
     "data": {
      "text/plain": [
       "0.02243168760077252"
      ]
     },
     "execution_count": 5,
     "metadata": {},
     "output_type": "execute_result"
    }
   ],
   "source": [
    "# c\n",
    "# Eigenlijk is deze kans 0.\n",
    "# Dit is omdat dit geen oppervlakte voorsteld maar een lijn.\n",
    "# Maar om toch een oppervlakte hebben, gebruiken we\n",
    "# P(179.5 < x < 180.5)\n",
    "\n",
    "stats.norm.cdf(180.5, 170.6, 6.75) - stats.norm.cdf(179.5, 170.6, 6.75) "
   ]
  },
  {
   "cell_type": "code",
   "execution_count": 6,
   "metadata": {},
   "outputs": [
    {
     "data": {
      "text/plain": [
       "172.31009294616663"
      ]
     },
     "execution_count": 6,
     "metadata": {},
     "output_type": "execute_result"
    }
   ],
   "source": [
    "# d\n",
    "# P(x < A) = 0.6\n",
    "stats.norm.ppf(0.6, 170.6, 6.75)"
   ]
  },
  {
   "cell_type": "markdown",
   "metadata": {},
   "source": [
    "# Oefening 5"
   ]
  },
  {
   "cell_type": "code",
   "execution_count": 7,
   "metadata": {},
   "outputs": [
    {
     "data": {
      "text/plain": [
       "442.815515655446"
      ]
     },
     "execution_count": 7,
     "metadata": {},
     "output_type": "execute_result"
    }
   ],
   "source": [
    "stats.norm.ppf(0.9, 430, 10)"
   ]
  },
  {
   "cell_type": "markdown",
   "metadata": {},
   "source": [
    "# Oefening 6"
   ]
  },
  {
   "cell_type": "code",
   "execution_count": 8,
   "metadata": {},
   "outputs": [
    {
     "data": {
      "text/plain": [
       "0.4120704478709426"
      ]
     },
     "execution_count": 8,
     "metadata": {},
     "output_type": "execute_result"
    }
   ],
   "source": [
    "# a\n",
    "stats.norm.cdf(50, 52, 9)"
   ]
  },
  {
   "cell_type": "code",
   "execution_count": 9,
   "metadata": {},
   "outputs": [
    {
     "data": {
      "text/plain": [
       "0.24111252237802"
      ]
     },
     "execution_count": 9,
     "metadata": {},
     "output_type": "execute_result"
    }
   ],
   "source": [
    "# b\n",
    "stats.norm.cdf(50, 52, math.sqrt(math.pow(9, 2) / 10))"
   ]
  },
  {
   "cell_type": "markdown",
   "metadata": {},
   "source": [
    "# Voorbeeld 2 p152"
   ]
  },
  {
   "cell_type": "code",
   "execution_count": 10,
   "metadata": {},
   "outputs": [
    {
     "data": {
      "text/plain": [
       "0.9923392388648204"
      ]
     },
     "execution_count": 10,
     "metadata": {},
     "output_type": "execute_result"
    }
   ],
   "source": [
    "# P(300 < x < 340)\n",
    "# P(x < 340) - P(x < 300)\n",
    "stats.norm.cdf(340, 320, math.sqrt(math.pow(75, 2) / 100)) - \\\n",
    "stats.norm.cdf(300, 320, math.sqrt(math.pow(75, 2) / 100))"
   ]
  },
  {
   "cell_type": "markdown",
   "metadata": {},
   "source": [
    "# Voorbeeld 3 p152"
   ]
  },
  {
   "cell_type": "code",
   "execution_count": 11,
   "metadata": {},
   "outputs": [],
   "source": [
    "# Niet oplosbaar voor ons"
   ]
  },
  {
   "cell_type": "markdown",
   "metadata": {},
   "source": [
    "# Voorbeeld 4 p152"
   ]
  },
  {
   "cell_type": "code",
   "execution_count": 12,
   "metadata": {},
   "outputs": [
    {
     "data": {
      "text/plain": [
       "0.1376167620374169"
      ]
     },
     "execution_count": 12,
     "metadata": {},
     "output_type": "execute_result"
    }
   ],
   "source": [
    "1 - stats.norm.cdf(0.75, 0.7, math.sqrt(0.7 * 0.3 / 100))"
   ]
  },
  {
   "cell_type": "markdown",
   "metadata": {},
   "source": [
    "# Oefening 1"
   ]
  },
  {
   "cell_type": "code",
   "execution_count": 13,
   "metadata": {
    "scrolled": true
   },
   "outputs": [
    {
     "data": {
      "text/plain": [
       "0.11506967022170822"
      ]
     },
     "execution_count": 13,
     "metadata": {},
     "output_type": "execute_result"
    }
   ],
   "source": [
    "1 - stats.norm.cdf(140, 110, 25)"
   ]
  },
  {
   "cell_type": "markdown",
   "metadata": {},
   "source": [
    "# Oefening 2"
   ]
  },
  {
   "cell_type": "code",
   "execution_count": 14,
   "metadata": {},
   "outputs": [
    {
     "data": {
      "text/plain": [
       "0.00020728275736137114"
      ]
     },
     "execution_count": 14,
     "metadata": {},
     "output_type": "execute_result"
    }
   ],
   "source": [
    "1 - stats.norm.cdf(815, 800, math.sqrt(math.pow(38, 2) / 80))\n",
    "\n",
    "# Oplossing = 0,0002072"
   ]
  },
  {
   "cell_type": "markdown",
   "metadata": {},
   "source": [
    "# Oefening 3"
   ]
  },
  {
   "cell_type": "code",
   "execution_count": 15,
   "metadata": {},
   "outputs": [
    {
     "data": {
      "text/plain": [
       "0.6232408821884179"
      ]
     },
     "execution_count": 15,
     "metadata": {},
     "output_type": "execute_result"
    }
   ],
   "source": [
    "stats.norm.cdf(52, 50, math.sqrt(math.pow(16, 2) / 50)) \\\n",
    "- stats.norm.cdf(48, 50, math.sqrt(math.pow(16, 2) / 50))\n",
    "\n",
    "# Oplossing = 0.6232"
   ]
  },
  {
   "cell_type": "markdown",
   "metadata": {},
   "source": [
    "# Oefening 4"
   ]
  },
  {
   "cell_type": "code",
   "execution_count": 16,
   "metadata": {},
   "outputs": [
    {
     "data": {
      "text/plain": [
       "0.9709036682587477"
      ]
     },
     "execution_count": 16,
     "metadata": {},
     "output_type": "execute_result"
    }
   ],
   "source": [
    "#a)\n",
    "\n",
    "0.30 * 100 #30\n",
    "stats.norm.cdf(0.4, 0.30, math.sqrt(0.3 *(1 - 0.3) / 100)) \\\n",
    " - stats.norm.cdf(0.2, 0.30, math.sqrt(0.3 *(1 - 0.3) / 100)) \n",
    "\n",
    "# Oplossing = 0,97090"
   ]
  },
  {
   "cell_type": "code",
   "execution_count": 17,
   "metadata": {},
   "outputs": [
    {
     "data": {
      "text/plain": [
       "0.7247664759251657"
      ]
     },
     "execution_count": 17,
     "metadata": {},
     "output_type": "execute_result"
    }
   ],
   "source": [
    "#b)\n",
    "\n",
    "stats.norm.cdf(0.35, 0.30, math.sqrt(0.3 *(1 - 0.3) / 100)) \\\n",
    " - stats.norm.cdf(0.25, 0.30, math.sqrt(0.3 *(1 - 0.3) / 100)) \n",
    "\n",
    "# Oplossing = 0,7247664"
   ]
  },
  {
   "cell_type": "markdown",
   "metadata": {},
   "source": [
    "# Oefening 5"
   ]
  },
  {
   "cell_type": "code",
   "execution_count": 18,
   "metadata": {},
   "outputs": [
    {
     "data": {
      "text/plain": [
       "0.10679868453528107"
      ]
     },
     "execution_count": 18,
     "metadata": {},
     "output_type": "execute_result"
    }
   ],
   "source": [
    "0.20 * 275 #55\n",
    "stats.norm.cdf(0.17, 0.20, math.sqrt(0.8 * 0.2 / 275))\n",
    "# Oplossing = 0.1067"
   ]
  },
  {
   "cell_type": "markdown",
   "metadata": {},
   "source": [
    "# Oefening 6"
   ]
  },
  {
   "cell_type": "code",
   "execution_count": 19,
   "metadata": {},
   "outputs": [
    {
     "data": {
      "text/plain": [
       "0.2857874067778077"
      ]
     },
     "execution_count": 19,
     "metadata": {},
     "output_type": "execute_result"
    }
   ],
   "source": [
    "#a)\n",
    "\n",
    "stats.norm.cdf(75, 80, 10) \\\n",
    "- stats.norm.cdf(60, 80, 10)\n",
    "\n",
    "# Oplossing = 0,2857"
   ]
  },
  {
   "cell_type": "code",
   "execution_count": 20,
   "metadata": {},
   "outputs": [
    {
     "data": {
      "text/plain": [
       "9.519315235887424"
      ]
     },
     "execution_count": 20,
     "metadata": {},
     "output_type": "execute_result"
    }
   ],
   "source": [
    "#b)\n",
    "\n",
    "kans = 1 - stats.norm.cdf(90, 80, 10)\n",
    "kans * 60\n",
    "\n",
    "# Oplossing = 0,952 => 10"
   ]
  },
  {
   "cell_type": "code",
   "execution_count": 21,
   "metadata": {},
   "outputs": [
    {
     "data": {
      "text/plain": [
       "92.815515655446"
      ]
     },
     "execution_count": 21,
     "metadata": {},
     "output_type": "execute_result"
    }
   ],
   "source": [
    "#c)\n",
    "\n",
    "stats.norm.ppf(0.9, 80, 10)\n",
    "\n",
    "# Oplossing = 92,8155"
   ]
  },
  {
   "cell_type": "markdown",
   "metadata": {},
   "source": [
    "# Oefening 7"
   ]
  },
  {
   "cell_type": "code",
   "execution_count": 22,
   "metadata": {},
   "outputs": [
    {
     "data": {
      "text/plain": [
       "3.24931392874783"
      ]
     },
     "execution_count": 22,
     "metadata": {},
     "output_type": "execute_result"
    }
   ],
   "source": [
    "stats.norm.ppf(0.04, 5, 1)\n",
    "\n",
    "# Oplossing = 3.249 jaar"
   ]
  },
  {
   "cell_type": "markdown",
   "metadata": {},
   "source": [
    "# Oefening 8"
   ]
  },
  {
   "cell_type": "code",
   "execution_count": 23,
   "metadata": {},
   "outputs": [
    {
     "name": "stdout",
     "output_type": "stream",
     "text": [
      "3.6736521259591592\n",
      "1.5104781889387389\n"
     ]
    }
   ],
   "source": [
    "print(stats.norm.ppf(0.01, 6, 1))\n",
    "\n",
    "print(stats.norm.ppf(0.01, 5, 1.5))\n",
    "\n",
    "# Oplossing = 1e OK, 2de NOK"
   ]
  },
  {
   "cell_type": "markdown",
   "metadata": {},
   "source": [
    "# Oefening 9"
   ]
  },
  {
   "cell_type": "code",
   "execution_count": 24,
   "metadata": {},
   "outputs": [
    {
     "data": {
      "text/plain": [
       "0.11787424632190002"
      ]
     },
     "execution_count": 24,
     "metadata": {},
     "output_type": "execute_result"
    }
   ],
   "source": [
    "1 - (stats.norm.cdf(67, 58, 4) - stats.norm.cdf(53, 58, 4))\n",
    "\n",
    "# Oplossing = 11.79 % slechte"
   ]
  },
  {
   "cell_type": "markdown",
   "metadata": {},
   "source": [
    "# Oefening 10"
   ]
  },
  {
   "cell_type": "code",
   "execution_count": 25,
   "metadata": {},
   "outputs": [
    {
     "name": "stdout",
     "output_type": "stream",
     "text": [
      "0.9640696808870742\n",
      "0.9331927987311419\n"
     ]
    }
   ],
   "source": [
    "print(stats.norm.cdf(680, 500, 100))\n",
    "\n",
    "print(stats.norm.cdf(27, 18, 6))\n",
    "# Oplossing = Dirk"
   ]
  },
  {
   "cell_type": "markdown",
   "metadata": {},
   "source": [
    "# Oefening 11"
   ]
  },
  {
   "cell_type": "code",
   "execution_count": 26,
   "metadata": {},
   "outputs": [
    {
     "data": {
      "text/plain": [
       "0.24196365222307303"
      ]
     },
     "execution_count": 26,
     "metadata": {},
     "output_type": "execute_result"
    }
   ],
   "source": [
    "#a)\n",
    "\n",
    "1 - stats.norm.cdf(40000, 36500, 5000)\n",
    "\n",
    "# Oplossing = 24,2"
   ]
  },
  {
   "cell_type": "code",
   "execution_count": 27,
   "metadata": {},
   "outputs": [
    {
     "data": {
      "text/plain": [
       "30092.242172276998"
      ]
     },
     "execution_count": 27,
     "metadata": {},
     "output_type": "execute_result"
    }
   ],
   "source": [
    "#b)\n",
    "\n",
    "stats.norm.ppf(0.10, 36500, 5000)\n",
    "\n",
    "# Oplossing = 30092,24"
   ]
  },
  {
   "cell_type": "code",
   "execution_count": null,
   "metadata": {},
   "outputs": [],
   "source": []
  }
 ],
 "metadata": {
  "kernelspec": {
   "display_name": "Python 3",
   "language": "python",
   "name": "python3"
  },
  "language_info": {
   "codemirror_mode": {
    "name": "ipython",
    "version": 3
   },
   "file_extension": ".py",
   "mimetype": "text/x-python",
   "name": "python",
   "nbconvert_exporter": "python",
   "pygments_lexer": "ipython3",
   "version": "3.7.3"
  }
 },
 "nbformat": 4,
 "nbformat_minor": 2
}
