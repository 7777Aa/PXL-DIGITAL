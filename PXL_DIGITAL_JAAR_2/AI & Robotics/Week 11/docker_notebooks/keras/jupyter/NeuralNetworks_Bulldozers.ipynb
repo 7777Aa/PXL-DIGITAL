{
 "cells": [
  {
   "cell_type": "markdown",
   "metadata": {},
   "source": [
    "# Colab preparation\n",
    "## Don't use it, if you don't need it on your own pc"
   ]
  },
  {
   "cell_type": "code",
   "execution_count": null,
   "metadata": {
    "colab": {
     "base_uri": "https://localhost:8080/",
     "height": 1938
    },
    "colab_type": "code",
    "id": "t6IYjsh_PG-a",
    "outputId": "cb9b1c29-6ee4-45df-939e-f5511a81137a"
   },
   "outputs": [],
   "source": [
    "!pip install fastai==0.7.0"
   ]
  },
  {
   "cell_type": "code",
   "execution_count": null,
   "metadata": {
    "colab": {
     "base_uri": "https://localhost:8080/",
     "height": 155
    },
    "colab_type": "code",
    "id": "eSVWv9DAPWlH",
    "outputId": "d3daf977-d80a-4127-ce51-323c4a79a87f"
   },
   "outputs": [],
   "source": [
    "!pip install keras"
   ]
  },
  {
   "cell_type": "code",
   "execution_count": null,
   "metadata": {
    "colab": {
     "base_uri": "https://localhost:8080/",
     "height": 207
    },
    "colab_type": "code",
    "id": "5H6pZPR2Qn4Y",
    "outputId": "62c21fac-fc7f-4c89-c505-4d382d8b2940"
   },
   "outputs": [],
   "source": [
    "!pip install kaggle"
   ]
  },
  {
   "cell_type": "code",
   "execution_count": null,
   "metadata": {
    "colab": {},
    "colab_type": "code",
    "id": "5V4wll3gPLBg"
   },
   "outputs": [],
   "source": [
    "%load_ext autoreload\n",
    "%autoreload 2\n",
    "\n",
    "%matplotlib inline"
   ]
  },
  {
   "cell_type": "code",
   "execution_count": 3,
   "metadata": {
    "colab": {},
    "colab_type": "code",
    "id": "XxuPsRQCPNKW"
   },
   "outputs": [],
   "source": [
    "from fastai.imports import *\n",
    "from fastai.structured import *\n",
    "\n",
    "from pandas_summary import DataFrameSummary\n",
    "from sklearn.ensemble import RandomForestRegressor, RandomForestClassifier\n",
    "from IPython.display import display\n",
    "\n",
    "from sklearn import metrics"
   ]
  },
  {
   "cell_type": "code",
   "execution_count": null,
   "metadata": {
    "colab": {},
    "colab_type": "code",
    "id": "6XvFukUlQWwc"
   },
   "outputs": [],
   "source": [
    "#Importing Libraries for data preparation\n",
    "import pandas as pd\n",
    "import numpy as np\n",
    "from fastai.imports import *\n",
    "from fastai.structured import *"
   ]
  },
  {
   "cell_type": "code",
   "execution_count": null,
   "metadata": {
    "colab": {
     "base_uri": "https://localhost:8080/",
     "height": 155
    },
    "colab_type": "code",
    "id": "stG5DU8WQsPG",
    "outputId": "41677a57-1a0f-480b-af0a-e936041ceb9d"
   },
   "outputs": [],
   "source": [
    "# Import kaggle.json from google drive\n",
    "# This snippet will output a link which needs authentication from any google account\n",
    "from googleapiclient.discovery import build\n",
    "import io, os\n",
    "from googleapiclient.http import MediaIoBaseDownload\n",
    "from google.colab import auth\n",
    "auth.authenticate_user()\n",
    "drive_service = build('drive', 'v3')\n",
    "results = drive_service.files().list(\n",
    "    q=\"name = 'kaggle.json'\", fields=\"files(id)\").execute()\n",
    "kaggle_api_key = results.get('files', [])\n",
    "# print(kaggle_api_key)\n",
    "filename = \"/content/.kaggle/kaggle.json\"\n",
    "os.makedirs(os.path.dirname(filename), exist_ok=True)\n",
    "request = drive_service.files().get_media(fileId=kaggle_api_key[0]['id'])\n",
    "fh = io.FileIO(filename, 'wb')\n",
    "downloader = MediaIoBaseDownload(fh, request)\n",
    "done = False\n",
    "while done is False:\n",
    "    status, done = downloader.next_chunk()\n",
    "    print(\"Download %d%%.\" % int(status.progress() * 100))\n",
    "os.chmod(filename, 600)"
   ]
  },
  {
   "cell_type": "code",
   "execution_count": null,
   "metadata": {
    "colab": {},
    "colab_type": "code",
    "id": "HwEezp0OQvT4"
   },
   "outputs": [],
   "source": [
    "\n",
    "!cp /content/.kaggle/kaggle.json ~/.kaggle/kaggle.json"
   ]
  },
  {
   "cell_type": "code",
   "execution_count": null,
   "metadata": {
    "colab": {
     "base_uri": "https://localhost:8080/",
     "height": 744
    },
    "colab_type": "code",
    "id": "p-9gywM2Q13A",
    "outputId": "97f64c9c-3560-458d-a2a5-0def992fde8c"
   },
   "outputs": [],
   "source": [
    "!kaggle competitions download -c bluebook-for-bulldozers"
   ]
  },
  {
   "cell_type": "code",
   "execution_count": null,
   "metadata": {
    "colab": {
     "base_uri": "https://localhost:8080/",
     "height": 121
    },
    "colab_type": "code",
    "id": "90ZeQnAmRAsU",
    "outputId": "da7c2889-c0b0-426e-f5fb-77a741541ae8"
   },
   "outputs": [],
   "source": [
    "!ls"
   ]
  },
  {
   "cell_type": "code",
   "execution_count": null,
   "metadata": {
    "colab": {
     "base_uri": "https://localhost:8080/",
     "height": 51
    },
    "colab_type": "code",
    "id": "ivldi3DpRFOH",
    "outputId": "bdb7f364-196a-4158-b117-4f9b82d14838"
   },
   "outputs": [],
   "source": [
    "!unzip Train.zip"
   ]
  },
  {
   "cell_type": "code",
   "execution_count": null,
   "metadata": {
    "colab": {
     "base_uri": "https://localhost:8080/",
     "height": 121
    },
    "colab_type": "code",
    "id": "RzkMpf4YRIf0",
    "outputId": "46d4dc5a-2f85-4917-a636-568e4c3d287d"
   },
   "outputs": [],
   "source": [
    "!ls"
   ]
  },
  {
   "cell_type": "markdown",
   "metadata": {},
   "source": [
    "### Read Data"
   ]
  },
  {
   "cell_type": "code",
   "execution_count": null,
   "metadata": {
    "colab": {},
    "colab_type": "code",
    "id": "Yy9EKowBRMgi"
   },
   "outputs": [],
   "source": [
    "df_raw = pd.read_csv('Train.csv', low_memory=False, \n",
    "                     parse_dates=[\"saledate\"])"
   ]
  },
  {
   "cell_type": "markdown",
   "metadata": {},
   "source": [
    "### Look at the data"
   ]
  },
  {
   "cell_type": "code",
   "execution_count": null,
   "metadata": {
    "colab": {},
    "colab_type": "code",
    "id": "mFUsIp_oRUge"
   },
   "outputs": [],
   "source": [
    "def display_all(df):\n",
    "    with pd.option_context(\"display.max_rows\", 1000, \"display.max_columns\", 1000): \n",
    "        display(df)"
   ]
  },
  {
   "cell_type": "code",
   "execution_count": null,
   "metadata": {
    "colab": {
     "base_uri": "https://localhost:8080/",
     "height": 1700
    },
    "colab_type": "code",
    "id": "uGt9XpY1RW4t",
    "outputId": "078aa935-1a5a-4a1f-904d-3a78e43d0bbc"
   },
   "outputs": [],
   "source": [
    "display_all(df_raw.tail().T)"
   ]
  },
  {
   "cell_type": "code",
   "execution_count": null,
   "metadata": {
    "colab": {},
    "colab_type": "code",
    "id": "9EyxHW_x9Bel"
   },
   "outputs": [],
   "source": [
    "from random import sample\n",
    "?df_raw.sample"
   ]
  },
  {
   "cell_type": "markdown",
   "metadata": {},
   "source": [
    "We take a random sample, of 100 000 records, to speed up the training process"
   ]
  },
  {
   "cell_type": "code",
   "execution_count": null,
   "metadata": {
    "colab": {},
    "colab_type": "code",
    "id": "W38iW8bm8coX"
   },
   "outputs": [],
   "source": [
    "df_raw = df_raw.sample(100000)"
   ]
  },
  {
   "cell_type": "code",
   "execution_count": null,
   "metadata": {
    "colab": {
     "base_uri": "https://localhost:8080/",
     "height": 34
    },
    "colab_type": "code",
    "id": "1kJ2CflS9ZuQ",
    "outputId": "44980277-b349-40ab-86d7-8eef1d36db51"
   },
   "outputs": [],
   "source": [
    "np.shape(df)"
   ]
  },
  {
   "cell_type": "markdown",
   "metadata": {},
   "source": [
    "Remember from the Kaggle competition that we're interested in the Log of the SalePrice"
   ]
  },
  {
   "cell_type": "code",
   "execution_count": null,
   "metadata": {
    "colab": {},
    "colab_type": "code",
    "id": "OljBZKc_9xAC"
   },
   "outputs": [],
   "source": [
    "df_raw.SalePrice = np.log(df_raw.SalePrice)"
   ]
  },
  {
   "cell_type": "markdown",
   "metadata": {},
   "source": [
    "### Data Cleaning and preparation\n",
    "Add extra date attributes to our dataset"
   ]
  },
  {
   "cell_type": "code",
   "execution_count": null,
   "metadata": {
    "colab": {},
    "colab_type": "code",
    "id": "wA1I53iD949d"
   },
   "outputs": [],
   "source": [
    "add_datepart(df_raw, 'saledate')"
   ]
  },
  {
   "cell_type": "markdown",
   "metadata": {},
   "source": [
    "Change Strings to categories"
   ]
  },
  {
   "cell_type": "code",
   "execution_count": null,
   "metadata": {
    "colab": {},
    "colab_type": "code",
    "id": "dvF9Sy94Rbrz"
   },
   "outputs": [],
   "source": [
    "train_cats(df_raw)"
   ]
  },
  {
   "cell_type": "markdown",
   "metadata": {},
   "source": [
    "Convert categories to their numerical values.\n",
    "\n",
    "Handle missing values: \n",
    "- Take the median for missing continuous variables\n",
    "- Add extra attributes for missing categorical variables"
   ]
  },
  {
   "cell_type": "code",
   "execution_count": null,
   "metadata": {
    "colab": {},
    "colab_type": "code",
    "id": "HFw9aXUIRueh"
   },
   "outputs": [],
   "source": [
    "df, y, nas = proc_df(df_raw, 'SalePrice')"
   ]
  },
  {
   "cell_type": "code",
   "execution_count": null,
   "metadata": {
    "colab": {
     "base_uri": "https://localhost:8080/",
     "height": 2105
    },
    "colab_type": "code",
    "id": "HKwRxfynXPA_",
    "outputId": "b62ffea1-b8e2-4086-9e45-7153c1ff60c9"
   },
   "outputs": [],
   "source": [
    "display_all(df.tail().T)"
   ]
  },
  {
   "cell_type": "markdown",
   "metadata": {},
   "source": [
    "Creata a validation set"
   ]
  },
  {
   "cell_type": "code",
   "execution_count": null,
   "metadata": {
    "colab": {},
    "colab_type": "code",
    "id": "YOcxUCCSQYzY"
   },
   "outputs": [],
   "source": [
    "from sklearn.model_selection import train_test_split\n",
    "X_train, X_valid, y_train, y_valid = train_test_split(df, y, test_size=0.30, random_state=42)"
   ]
  },
  {
   "cell_type": "markdown",
   "metadata": {},
   "source": [
    "### Train Models\n",
    "First, let's train our random forest"
   ]
  },
  {
   "cell_type": "code",
   "execution_count": null,
   "metadata": {
    "colab": {
     "base_uri": "https://localhost:8080/",
     "height": 34
    },
    "colab_type": "code",
    "id": "b6YzQvPYR4-x",
    "outputId": "98e35a33-51be-4bfe-f6fc-def8a8b258a6"
   },
   "outputs": [],
   "source": [
    "#import necessary libraries to build model\n",
    "import random\n",
    "from sklearn.ensemble import RandomForestRegressor\n",
    "random.seed(42)\n",
    "rf = RandomForestRegressor(n_estimators=10)\n",
    "rf.fit(X_train, y_train)\n",
    "\n",
    "rf.score(df,y)"
   ]
  },
  {
   "cell_type": "markdown",
   "metadata": {},
   "source": [
    "Check how many attributes we have, to create our Neural Network"
   ]
  },
  {
   "cell_type": "code",
   "execution_count": null,
   "metadata": {
    "colab": {
     "base_uri": "https://localhost:8080/",
     "height": 34
    },
    "colab_type": "code",
    "id": "_GlMFYhY-L_o",
    "outputId": "75d92c3d-9700-4285-cd2e-cfaa1ad370b1"
   },
   "outputs": [],
   "source": [
    "np.shape(df)"
   ]
  },
  {
   "cell_type": "markdown",
   "metadata": {},
   "source": [
    "We have 66 attributes, so 66 is our input dimension"
   ]
  },
  {
   "cell_type": "code",
   "execution_count": null,
   "metadata": {
    "colab": {
     "base_uri": "https://localhost:8080/",
     "height": 242
    },
    "colab_type": "code",
    "id": "o9mgNGdQR7Sz",
    "outputId": "98a3686a-25dd-49a3-9a2e-c23aee065d5f"
   },
   "outputs": [],
   "source": [
    "from keras.models import Sequential\n",
    "from keras.layers import Dense, Activation\n",
    "\n",
    "# Define model\n",
    "model = Sequential()\n",
    "model.add(Dense(100, input_dim=66, activation= \"relu\"))\n",
    "model.add(Dense(50, activation= \"relu\"))\n",
    "model.add(Dense(1))\n",
    "model.summary() #Print model Summary"
   ]
  },
  {
   "cell_type": "markdown",
   "metadata": {},
   "source": [
    "We use Mean Squared Error as the loss function, because we're dealing with a regression problem.\n",
    "\n",
    "We use the optimizer Adam, it uses an adaptive learning rate. Check Keras' documentation for details."
   ]
  },
  {
   "cell_type": "code",
   "execution_count": null,
   "metadata": {
    "colab": {},
    "colab_type": "code",
    "id": "UaGHOyXSSL2b"
   },
   "outputs": [],
   "source": [
    "# Compile model\n",
    "model.compile(loss= \"mean_squared_error\" , optimizer=\"adam\", metrics=[\"mean_squared_error\"])"
   ]
  },
  {
   "cell_type": "markdown",
   "metadata": {},
   "source": [
    "Train the Neural Network.\n",
    "\n",
    "The large discrepancy in the loss function can be explained by the adaptive learning rate. At first, the learning rate is too large, resulting in no convergence. At a certain epoch, the learning rate is at a level which is useful to train the Neural Network.\n",
    "\n",
    "Compared to traditional Machine Learning techniques like Random Forests and Boosting, Neural Networks are a black box. We're not really sure why it works the way it does. This makes understanding our training process harder. \n",
    "\n",
    "It's more difficult to use our understanding of the data to optimize a Neural Network."
   ]
  },
  {
   "cell_type": "code",
   "execution_count": null,
   "metadata": {
    "colab": {
     "base_uri": "https://localhost:8080/",
     "height": 3496
    },
    "colab_type": "code",
    "id": "7KGm5J7NSOlt",
    "outputId": "c534aad8-951e-4d66-b552-10cb1da06982"
   },
   "outputs": [],
   "source": [
    "# Fit Model\n",
    "model.fit(X_train, y_train, epochs=100)"
   ]
  },
  {
   "cell_type": "code",
   "execution_count": null,
   "metadata": {
    "colab": {
     "base_uri": "https://localhost:8080/",
     "height": 415
    },
    "colab_type": "code",
    "id": "W-pDgrbdSYV5",
    "outputId": "e39591b1-7ae4-4f08-afc2-85db5290d6f0"
   },
   "outputs": [],
   "source": [
    "# Evaluation while fitting the model\n",
    "model.fit(X_train, y_train, epochs=10, validation_data=(X_valid, y_valid))"
   ]
  },
  {
   "cell_type": "markdown",
   "metadata": {},
   "source": [
    "### Model comparison\n",
    "Compare the mean squared error metric for the Random Forest and the Neural Network"
   ]
  },
  {
   "cell_type": "code",
   "execution_count": null,
   "metadata": {},
   "outputs": [],
   "source": [
    "from sklearn.metrics import mean_squared_error"
   ]
  },
  {
   "cell_type": "code",
   "execution_count": null,
   "metadata": {
    "colab": {},
    "colab_type": "code",
    "id": "2EBbPwdvScRZ"
   },
   "outputs": [],
   "source": [
    "#Prediction using Random Forest \n",
    "y_valid_rf = rf.predict(X_valid)\n",
    "score = np.sqrt(mean_squared_error(y_valid,y_valid_rf))\n",
    "print (score)"
   ]
  },
  {
   "cell_type": "code",
   "execution_count": null,
   "metadata": {
    "colab": {
     "base_uri": "https://localhost:8080/",
     "height": 34
    },
    "colab_type": "code",
    "id": "XYd2zMvpZAWt",
    "outputId": "6fa3e52e-b419-4bc2-bc28-d8b17fd65741"
   },
   "outputs": [],
   "source": [
    "#Prediction using Neural Network\n",
    "y_valid_nn = model.predict(X_valid)\n",
    "score = np.sqrt(mean_squared_error(y_valid,y_valid_nn))\n",
    "print (score)"
   ]
  },
  {
   "cell_type": "markdown",
   "metadata": {},
   "source": [
    "We see that the random forest out of the box is a lot better than the neural network out of the box"
   ]
  },
  {
   "cell_type": "code",
   "execution_count": null,
   "metadata": {},
   "outputs": [],
   "source": []
  }
 ],
 "metadata": {
  "accelerator": "TPU",
  "colab": {
   "name": "Untitled0.ipynb",
   "provenance": [],
   "version": "0.3.2"
  },
  "kernelspec": {
   "display_name": "Python 3",
   "language": "python",
   "name": "python3"
  },
  "language_info": {
   "codemirror_mode": {
    "name": "ipython",
    "version": 3
   },
   "file_extension": ".py",
   "mimetype": "text/x-python",
   "name": "python",
   "nbconvert_exporter": "python",
   "pygments_lexer": "ipython3",
   "version": "3.6.8"
  }
 },
 "nbformat": 4,
 "nbformat_minor": 1
}
